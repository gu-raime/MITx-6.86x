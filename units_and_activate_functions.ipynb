{
  "nbformat": 4,
  "nbformat_minor": 0,
  "metadata": {
    "colab": {
      "name": "Untitled",
      "provenance": [],
      "authorship_tag": "ABX9TyNYtni3ZLDYHewg2j8kQzOB",
      "include_colab_link": true
    },
    "kernelspec": {
      "name": "python3",
      "display_name": "Python 3"
    },
    "language_info": {
      "name": "python"
    }
  },
  "cells": [
    {
      "cell_type": "markdown",
      "metadata": {
        "id": "view-in-github",
        "colab_type": "text"
      },
      "source": [
        "<a href=\"https://colab.research.google.com/github/gu-raime/MITx-6.86x/blob/master/units_and_activate_functions.ipynb\" target=\"_parent\"><img src=\"https://colab.research.google.com/assets/colab-badge.svg\" alt=\"Open In Colab\"/></a>"
      ]
    },
    {
      "cell_type": "code",
      "metadata": {
        "id": "IoP9r8s7hh7D"
      },
      "source": [
        "import numpy as np"
      ],
      "execution_count": 1,
      "outputs": []
    },
    {
      "cell_type": "code",
      "metadata": {
        "colab": {
          "base_uri": "https://localhost:8080/"
        },
        "id": "ENK84XEFhpix",
        "outputId": "e47eff72-08b2-49cb-c6b4-95dda5ac2e40"
      },
      "source": [
        "# Deep learnign MIT class\n",
        "\n",
        "# variables\n",
        "x = np.array([[1,0]]) #feature vector coordinates\n",
        "w_0 = -3 #bias\n",
        "w = np.array([[1,-1]]) #weights vector\n",
        "\n",
        "def function (x,w_0,w): #activation function\n",
        "  \n",
        "  z = np.dot(x,w.T) + w_0 #sum of x.w, or y pred.\n",
        "  print(z)\n",
        "\n",
        "#function(x,w_0,w) \n",
        "\n",
        "def relu (x,w_0,w): # rectifier linear unit function\n",
        "  \n",
        "  z = np.dot(x,w.T) + w_0 #sum of x.w, or y pred.\n",
        "  f = max(0,z)\n",
        "  print (f)\n",
        "\n",
        "#relu(x,w_0,w)\n",
        "\n",
        "def hiperbolic_tangh(x,w_0,w): #Hyperbolic Tangent Activation Function (Sigmoid function)\n",
        "\n",
        "  z = np.dot(x,w.T) + w_0 #sum of x.w, or y pred.\n",
        "\n",
        "  tangh = ( (np.exp(z)- np.exp(-z) ) / ( (np.exp(z) + np.exp(-z)) ) )\n",
        "  tangh_2 = 1 - ( 2 / (np.exp(2*z) + 1) )\n",
        "\n",
        "  print(tangh,tangh_2)\n",
        "\n",
        "#hiperbolic_tangh(x,w_0,w)\n"
      ],
      "execution_count": 11,
      "outputs": [
        {
          "output_type": "stream",
          "name": "stdout",
          "text": [
            "[[-0.96402758]] [[-0.96402758]]\n"
          ]
        }
      ]
    },
    {
      "cell_type": "code",
      "metadata": {
        "colab": {
          "base_uri": "https://localhost:8080/"
        },
        "id": "u6UllbP-khqW",
        "outputId": "69b957b6-51da-4931-a98d-1094171938aa"
      },
      "source": [
        "z = 0\n",
        "g = 1 - ( 2 / (np.exp(2*z) + 1) )\n",
        "\n",
        "g\n"
      ],
      "execution_count": 14,
      "outputs": [
        {
          "output_type": "execute_result",
          "data": {
            "text/plain": [
              "0.0"
            ]
          },
          "metadata": {},
          "execution_count": 14
        }
      ]
    }
  ]
}